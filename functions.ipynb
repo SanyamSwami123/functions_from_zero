{
  "nbformat": 4,
  "nbformat_minor": 0,
  "metadata": {
    "colab": {
      "provenance": [],
      "authorship_tag": "ABX9TyMzaJLuItmrEdmY93kZ8oTY",
      "include_colab_link": true
    },
    "kernelspec": {
      "name": "python3",
      "display_name": "Python 3"
    },
    "language_info": {
      "name": "python"
    }
  },
  "cells": [
    {
      "cell_type": "markdown",
      "metadata": {
        "id": "view-in-github",
        "colab_type": "text"
      },
      "source": [
        "<a href=\"https://colab.research.google.com/github/SanyamSwami123/functions_from_zero/blob/main/functions.ipynb\" target=\"_parent\"><img src=\"https://colab.research.google.com/assets/colab-badge.svg\" alt=\"Open In Colab\"/></a>"
      ]
    },
    {
      "cell_type": "code",
      "execution_count": null,
      "metadata": {
        "colab": {
          "base_uri": "https://localhost:8080/"
        },
        "id": "XbrVFpALJz96",
        "outputId": "16a183ae-6db0-4223-c19c-82e8dbfcb29e"
      },
      "outputs": [
        {
          "output_type": "stream",
          "name": "stdout",
          "text": [
            "hello world\n"
          ]
        }
      ],
      "source": [
        "print(\"hello world\")# print statement"
      ]
    },
    {
      "cell_type": "code",
      "source": [
        "var= 12 #variable\n",
        "var"
      ],
      "metadata": {
        "colab": {
          "base_uri": "https://localhost:8080/"
        },
        "id": "NsEGm1p6KU4R",
        "outputId": "40986d9a-6961-43aa-8f78-e8479f3d4562"
      },
      "execution_count": null,
      "outputs": [
        {
          "output_type": "execute_result",
          "data": {
            "text/plain": [
              "12"
            ]
          },
          "metadata": {},
          "execution_count": 2
        }
      ]
    },
    {
      "cell_type": "code",
      "source": [
        "v1, v2=1, 2\n",
        "v1+v2"
      ],
      "metadata": {
        "id": "a6oGOAuvKdCa",
        "colab": {
          "base_uri": "https://localhost:8080/"
        },
        "outputId": "95d15f17-ff58-4546-bc10-9f076f6d84c3"
      },
      "execution_count": 1,
      "outputs": [
        {
          "output_type": "execute_result",
          "data": {
            "text/plain": [
              "3"
            ]
          },
          "metadata": {},
          "execution_count": 1
        }
      ]
    },
    {
      "cell_type": "code",
      "source": [
        "list_data_structure= [1,2,3,4]\n",
        "list_data_structure"
      ],
      "metadata": {
        "colab": {
          "base_uri": "https://localhost:8080/"
        },
        "id": "_4O3GoRUMxEC",
        "outputId": "5fa8acef-32e3-47c9-fe23-21646c5a5816"
      },
      "execution_count": 2,
      "outputs": [
        {
          "output_type": "execute_result",
          "data": {
            "text/plain": [
              "[1, 2, 3, 4]"
            ]
          },
          "metadata": {},
          "execution_count": 2
        }
      ]
    },
    {
      "cell_type": "code",
      "source": [
        "list_data_structure[1]"
      ],
      "metadata": {
        "colab": {
          "base_uri": "https://localhost:8080/"
        },
        "id": "hO_2AAkiM6Ou",
        "outputId": "4157bafd-0eec-4ca4-a02d-932b4208b71f"
      },
      "execution_count": 3,
      "outputs": [
        {
          "output_type": "execute_result",
          "data": {
            "text/plain": [
              "2"
            ]
          },
          "metadata": {},
          "execution_count": 3
        }
      ]
    },
    {
      "cell_type": "code",
      "source": [
        "list_data_structure[-1]"
      ],
      "metadata": {
        "colab": {
          "base_uri": "https://localhost:8080/"
        },
        "id": "brvWzk8EM7sm",
        "outputId": "713212fa-82bf-4197-86d4-c330f74db28d"
      },
      "execution_count": 4,
      "outputs": [
        {
          "output_type": "execute_result",
          "data": {
            "text/plain": [
              "4"
            ]
          },
          "metadata": {},
          "execution_count": 4
        }
      ]
    },
    {
      "cell_type": "code",
      "source": [
        "dict_data_structure = dict()\n",
        "dict_data_structure['name']= 'elf'\n",
        "dict_data_structure['pno']= '123'\n",
        "dict_data_structure['age']= None\n",
        "dict_data_structure"
      ],
      "metadata": {
        "id": "IQzwiX24M8wu"
      },
      "execution_count": null,
      "outputs": []
    },
    {
      "cell_type": "code",
      "source": [
        "type(dict_data_structure), type(list_data_structure)"
      ],
      "metadata": {
        "colab": {
          "base_uri": "https://localhost:8080/"
        },
        "id": "phjmg3AjM_Yt",
        "outputId": "138e1dd3-a017-445c-fed2-2bb16ff526aa"
      },
      "execution_count": 7,
      "outputs": [
        {
          "output_type": "execute_result",
          "data": {
            "text/plain": [
              "(dict, list)"
            ]
          },
          "metadata": {},
          "execution_count": 7
        }
      ]
    },
    {
      "cell_type": "code",
      "source": [
        "dict_data_structure.keys(), dict_data_structure.values(), dict_data_structure.items()"
      ],
      "metadata": {
        "id": "Dapl-BxWNtgx",
        "outputId": "e9270050-30f8-4cd1-e513-d5d82975f7f6",
        "colab": {
          "base_uri": "https://localhost:8080/"
        }
      },
      "execution_count": 10,
      "outputs": [
        {
          "output_type": "execute_result",
          "data": {
            "text/plain": [
              "(dict_keys(['name', 'pno', 'age']),\n",
              " dict_values(['elf', '123', None]),\n",
              " dict_items([('name', 'elf'), ('pno', '123'), ('age', None)]))"
            ]
          },
          "metadata": {},
          "execution_count": 10
        }
      ]
    },
    {
      "cell_type": "code",
      "source": [
        "for k,v in dict_data_structure.items():\n",
        "  print(f'{k}, {v}')"
      ],
      "metadata": {
        "id": "C50MA_hQN1nz",
        "outputId": "5674457a-2818-46b8-a56c-07827d305f36",
        "colab": {
          "base_uri": "https://localhost:8080/"
        }
      },
      "execution_count": 12,
      "outputs": [
        {
          "output_type": "stream",
          "name": "stdout",
          "text": [
            "name, elf\n",
            "pno, 123\n",
            "age, None\n"
          ]
        }
      ]
    },
    {
      "cell_type": "code",
      "source": [],
      "metadata": {
        "id": "lw5ikKT1OHDB"
      },
      "execution_count": null,
      "outputs": []
    }
  ]
}